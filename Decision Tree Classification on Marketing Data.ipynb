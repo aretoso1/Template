{
 "cells": [
  {
   "cell_type": "markdown",
   "id": "e9c78c83-1aec-4d06-b80b-2ab703343c27",
   "metadata": {},
   "source": [
    "# Decision Tree Classification on Marketing Data"
   ]
  },
  {
   "cell_type": "markdown",
   "id": "27be9347-9e6f-4811-a1eb-b09638bbb272",
   "metadata": {},
   "source": [
    "A decision tree classifier is a supervised learning method used for classification (and regression). In this playbook, you will use a decision tree for binary classification. The dataset ([source](https://www.kaggle.com/akram24/social-network-ads)) that will be used consists of 400 records of data about users, such as age, estimated salary and gender, and how they reacted on an advertisment. You will predict whether or not a user will react positively on an advertisment, i.e. buy the product."
   ]
  },
  {
   "cell_type": "code",
   "execution_count": 1,
   "id": "336d7477-fda2-4903-9ec9-ef2f75349094",
   "metadata": {},
   "outputs": [],
   "source": [
    "# Load packages\n",
    "import numpy as np\n",
    "import pandas as pd\n",
    "import matplotlib.pyplot as plt\n",
    "from sklearn.model_selection import train_test_split\n",
    "from sklearn.preprocessing import StandardScaler, OrdinalEncoder\n",
    "from sklearn.tree import DecisionTreeClassifier\n",
    "from sklearn.metrics import accuracy_score\n",
    "from sklearn import tree"
   ]
  },
  {
   "cell_type": "markdown",
   "id": "5dba0061-c073-43b5-b766-914d7fdcf90d",
   "metadata": {},
   "source": [
    "## 1. Load your data"
   ]
  },
  {
   "cell_type": "code",
   "execution_count": 4,
   "id": "5bfacd46-072a-40a3-b83d-1df823d4e559",
   "metadata": {},
   "outputs": [
    {
     "data": {
      "text/html": [
       "<div>\n",
       "<style scoped>\n",
       "    .dataframe tbody tr th:only-of-type {\n",
       "        vertical-align: middle;\n",
       "    }\n",
       "\n",
       "    .dataframe tbody tr th {\n",
       "        vertical-align: top;\n",
       "    }\n",
       "\n",
       "    .dataframe thead th {\n",
       "        text-align: right;\n",
       "    }\n",
       "</style>\n",
       "<table border=\"1\" class=\"dataframe\">\n",
       "  <thead>\n",
       "    <tr style=\"text-align: right;\">\n",
       "      <th></th>\n",
       "      <th>Gender</th>\n",
       "      <th>Age</th>\n",
       "      <th>EstimatedSalary</th>\n",
       "      <th>Purchased</th>\n",
       "    </tr>\n",
       "    <tr>\n",
       "      <th>UserID</th>\n",
       "      <th></th>\n",
       "      <th></th>\n",
       "      <th></th>\n",
       "      <th></th>\n",
       "    </tr>\n",
       "  </thead>\n",
       "  <tbody>\n",
       "    <tr>\n",
       "      <th>15624510</th>\n",
       "      <td>Male</td>\n",
       "      <td>19</td>\n",
       "      <td>19000</td>\n",
       "      <td>0</td>\n",
       "    </tr>\n",
       "    <tr>\n",
       "      <th>15810944</th>\n",
       "      <td>Male</td>\n",
       "      <td>35</td>\n",
       "      <td>20000</td>\n",
       "      <td>0</td>\n",
       "    </tr>\n",
       "    <tr>\n",
       "      <th>15668575</th>\n",
       "      <td>Female</td>\n",
       "      <td>26</td>\n",
       "      <td>43000</td>\n",
       "      <td>0</td>\n",
       "    </tr>\n",
       "    <tr>\n",
       "      <th>15603246</th>\n",
       "      <td>Female</td>\n",
       "      <td>27</td>\n",
       "      <td>57000</td>\n",
       "      <td>0</td>\n",
       "    </tr>\n",
       "    <tr>\n",
       "      <th>15804002</th>\n",
       "      <td>Male</td>\n",
       "      <td>19</td>\n",
       "      <td>76000</td>\n",
       "      <td>0</td>\n",
       "    </tr>\n",
       "  </tbody>\n",
       "</table>\n",
       "</div>"
      ],
      "text/plain": [
       "          Gender  Age  EstimatedSalary  Purchased\n",
       "UserID                                           \n",
       "15624510    Male   19            19000          0\n",
       "15810944    Male   35            20000          0\n",
       "15668575  Female   26            43000          0\n",
       "15603246  Female   27            57000          0\n",
       "15804002    Male   19            76000          0"
      ]
     },
     "execution_count": 4,
     "metadata": {},
     "output_type": "execute_result"
    }
   ],
   "source": [
    "# Load data\n",
    "df = pd.read_csv('social_network_ads.csv', index_col='UserID')\n",
    "df.head()"
   ]
  },
  {
   "cell_type": "markdown",
   "id": "52dd05c0-58b8-4302-aedc-5c76bd73f7b1",
   "metadata": {},
   "source": [
    "## 2. Data Preprocessing"
   ]
  },
  {
   "cell_type": "code",
   "execution_count": 4,
   "id": "605f0e26-540e-47ca-818b-4f3cb78e820c",
   "metadata": {},
   "outputs": [],
   "source": [
    "# Convert 'Purchased' to boolean\n",
    "df['Purchased'] = df['Purchased'].astype('bool')"
   ]
  },
  {
   "cell_type": "code",
   "execution_count": 5,
   "id": "75a9ce88-e8e5-4544-8bfe-a1429f39552d",
   "metadata": {},
   "outputs": [
    {
     "name": "stdout",
     "output_type": "stream",
     "text": [
      "Gender             0\n",
      "Age                0\n",
      "EstimatedSalary    0\n",
      "Purchased          0\n",
      "dtype: int64\n"
     ]
    }
   ],
   "source": [
    "# Inspect null values\n",
    "print(df.isnull().sum())"
   ]
  },
  {
   "cell_type": "code",
   "execution_count": 6,
   "id": "e2101794-8fa6-48d7-bc30-33a2cbfb303d",
   "metadata": {},
   "outputs": [
    {
     "data": {
      "text/html": [
       "<div>\n",
       "<style scoped>\n",
       "    .dataframe tbody tr th:only-of-type {\n",
       "        vertical-align: middle;\n",
       "    }\n",
       "\n",
       "    .dataframe tbody tr th {\n",
       "        vertical-align: top;\n",
       "    }\n",
       "\n",
       "    .dataframe thead th {\n",
       "        text-align: right;\n",
       "    }\n",
       "</style>\n",
       "<table border=\"1\" class=\"dataframe\">\n",
       "  <thead>\n",
       "    <tr style=\"text-align: right;\">\n",
       "      <th></th>\n",
       "      <th>Gender</th>\n",
       "      <th>Purchased</th>\n",
       "    </tr>\n",
       "  </thead>\n",
       "  <tbody>\n",
       "    <tr>\n",
       "      <th>count</th>\n",
       "      <td>400</td>\n",
       "      <td>400</td>\n",
       "    </tr>\n",
       "    <tr>\n",
       "      <th>unique</th>\n",
       "      <td>2</td>\n",
       "      <td>2</td>\n",
       "    </tr>\n",
       "    <tr>\n",
       "      <th>top</th>\n",
       "      <td>Female</td>\n",
       "      <td>False</td>\n",
       "    </tr>\n",
       "    <tr>\n",
       "      <th>freq</th>\n",
       "      <td>204</td>\n",
       "      <td>257</td>\n",
       "    </tr>\n",
       "  </tbody>\n",
       "</table>\n",
       "</div>"
      ],
      "text/plain": [
       "        Gender Purchased\n",
       "count      400       400\n",
       "unique       2         2\n",
       "top     Female     False\n",
       "freq       204       257"
      ]
     },
     "execution_count": 6,
     "metadata": {},
     "output_type": "execute_result"
    }
   ],
   "source": [
    "# Inspect variables (Gender and Purchased)\n",
    "df.describe(include=['object','bool'])"
   ]
  },
  {
   "cell_type": "code",
   "execution_count": 7,
   "id": "850bcf88-1418-4e03-9c23-09c7639a1c40",
   "metadata": {},
   "outputs": [
    {
     "data": {
      "image/png": "[encoded data removed]",
      "text/plain": [
       "<Figure size 432x288 with 2 Axes>"
      ]
     },
     "metadata": {
      "needs_background": "light"
     },
     "output_type": "display_data"
    }
   ],
   "source": [
    "# Inspect variables (Age and EstimatedSalary)\n",
    "fig, (ax1, ax2) = plt.subplots(1, 2)\n",
    "\n",
    "ax1.boxplot(df['Age'])\n",
    "ax1.xaxis.set_visible(False)\n",
    "ax1.set_title('Age')\n",
    "\n",
    "ax2.boxplot(df['EstimatedSalary'])\n",
    "ax2.xaxis.set_visible(False)\n",
    "ax2.set_title('EstimatedSalary')\n",
    "\n",
    "\n",
    "fig.tight_layout()\n",
    "fig.show()"
   ]
  },
  {
   "cell_type": "code",
   "execution_count": 6,
   "id": "913f3de2-d6f1-4b0f-b0b0-a258cc5f430a",
   "metadata": {},
   "outputs": [],
   "source": [
    "# Split the data into X and y\n",
    "input_cols = ['Gender', 'Age', 'EstimatedSalary']\n",
    "output_col = ['Purchased']\n",
    "X = df[input_cols]\n",
    "y = df[output_col]\n",
    "\n",
    "# Use an encoder to encode the categorical values 'Male' and 'Female'\n",
    "encoder = OrdinalEncoder()\n",
    "X = encoder.fit_transform(X)\n",
    "\n",
    "# Split the data into training and test data\n",
    "X_train, X_test, y_train, y_test =  train_test_split(X,y,test_size = 0.30, random_state= 44)"
   ]
  },
  {
   "cell_type": "markdown",
   "id": "cc5abde3-eda6-40b5-bde7-25a6477373da",
   "metadata": {},
   "source": [
    "## 3. Build your Decision Tree Classifier"
   ]
  },
  {
   "cell_type": "markdown",
   "id": "2fca1908-736b-4f0b-9966-a90118863279",
   "metadata": {},
   "source": [
    "For the decision tree, you can choose between either **gini impurity** or **entropy** as the classification criterion:  \n",
    "The **gini impurity** for a binary split on attribute A, which divides set $S$ into sets $S_{1}$ and $S_{2}$, is as follows:\n",
    "$$ Gini_{A}(S) = \\dfrac{|S_{1}|}{|S|} * Gini(|S_{1}|) +  \\dfrac{|S_{2}|}{|S|} * Gini(|S_{2}|)$$  \n",
    "with $ Gini(|S_{i}|) = 1 - p_{1}^{2} - p_{2}^{2}$\n",
    "\n",
    "The **entropy** for the same sort of split is as follows:\n",
    "$$ Entropy_{A}(S) = -p_{1}*log_{2}(p_{1}) - p_{2}*log_{2}(p_{2})$$  \n",
    "with $p_{i} = \\dfrac{|S_{i}|}{|S|}$"
   ]
  },
  {
   "cell_type": "code",
   "execution_count": 8,
   "id": "32af5116-21c3-43cb-aa82-9febfd29dec9",
   "metadata": {},
   "outputs": [
    {
     "name": "stdout",
     "output_type": "stream",
     "text": [
      "Model accuracy score with criterion gini index: 0.9000\n"
     ]
    }
   ],
   "source": [
    "# Choose the criterion and max depth of the tree you want to use\n",
    "CRITERION = 'gini'\n",
    "MAX_DEPTH = 3\n",
    "\n",
    "# Set up the DT classifier\n",
    "dt_clf = DecisionTreeClassifier(criterion=CRITERION, max_depth=MAX_DEPTH, random_state=43)\n",
    "\n",
    "# Train the DT classifier\n",
    "_=dt_clf.fit(X_train, y_train)\n",
    "\n",
    "# Evaluate the DT on the test set\n",
    "y_pred = dt_clf.predict(X_test)\n",
    "print(f'Model accuracy score with criterion {CRITERION} index: {accuracy_score(y_test, y_pred):.4f}')"
   ]
  },
  {
   "cell_type": "code",
   "execution_count": 9,
   "id": "84cdaf59-52ec-4baf-9d31-cb40a8a038e8",
   "metadata": {},
   "outputs": [
    {
     "data": {
      "image/png": "[encoded data removed]",
      "text/plain": [
       "<Figure size 864x576 with 1 Axes>"
      ]
     },
     "metadata": {
      "needs_background": "light"
     },
     "output_type": "display_data"
    }
   ],
   "source": [
    "# Possibly visualize the DT\n",
    "plt.figure(figsize=(12,8))\n",
    "_=tree.plot_tree(dt_clf.fit(X_train, y_train), feature_names=input_cols, fontsize=10) "
   ]
  },
  {
   "cell_type": "markdown",
   "id": "8d39a44a-fe17-4fc2-a29b-896684599bee",
   "metadata": {},
   "source": [
    "As you can see in this decision tree, gender is of no importance. You can also check the importance of different features using `dt_clf.feature_importances_`:"
   ]
  },
  {
   "cell_type": "code",
   "execution_count": 10,
   "id": "a016d942-6a67-4b4c-ae5d-18752cc4871c",
   "metadata": {},
   "outputs": [
    {
     "name": "stdout",
     "output_type": "stream",
     "text": [
      "Gender: 0.000\n",
      "Age: 0.652\n",
      "EstimatedSalary: 0.348\n"
     ]
    }
   ],
   "source": [
    "ft_importance = dt_clf.feature_importances_\n",
    "for i, score in enumerate(ft_importance):\n",
    "    print(f'{input_cols[i]}: {score:.3f}')"
   ]
  }
 ],
 "metadata": {
  "kernelspec": {
   "display_name": "Python 3 (ipykernel)",
   "language": "python",
   "name": "python3"
  },
  "language_info": {
   "codemirror_mode": {
    "name": "ipython",
    "version": 3
   },
   "file_extension": ".py",
   "mimetype": "text/x-python",
   "name": "python",
   "nbconvert_exporter": "python",
   "pygments_lexer": "ipython3",
   "version": "3.8.10"
  }
 },
 "nbformat": 4,
 "nbformat_minor": 5
}
